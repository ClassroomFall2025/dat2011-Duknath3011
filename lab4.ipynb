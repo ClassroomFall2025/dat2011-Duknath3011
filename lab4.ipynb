{
 "cells": [
  {
   "cell_type": "markdown",
   "id": "fdeff819",
   "metadata": {},
   "source": [
    "# Sinh Viên thực hiện Lab 4 ở Đây"
   ]
  },
  {
   "cell_type": "markdown",
   "id": "acc5d7dc",
   "metadata": {},
   "source": [
    "## Lab 1 - Bài 1"
   ]
  },
  {
   "cell_type": "code",
   "execution_count": 4,
   "id": "001e0507",
   "metadata": {},
   "outputs": [
    {
     "name": "stdout",
     "output_type": "stream",
     "text": [
      "so tien phai tra cho 23 là 199000\n"
     ]
    }
   ],
   "source": [
    "def tinh_tien_nuoc(so_nuoc):\n",
    "    gia_ban_nuoc = (7500,8800,12000,24000)\n",
    "    if so_nuoc < 10:\n",
    "        tien_nuoc = so_nuoc * gia_ban_nuoc[0]\n",
    "    elif so_nuoc <= 20:\n",
    "        tien_nuoc = 10 * gia_ban_nuoc[0] + (so_nuoc-10) * gia_ban_nuoc[1]\n",
    "    elif so_nuoc <= 30:\n",
    "        tien_nuoc = 10 * gia_ban_nuoc[0] + 10 * gia_ban_nuoc[1] +(so_nuoc -20) *gia_ban_nuoc[2]\n",
    "    else:\n",
    "        tien_nuoc = 10 * gia_ban_nuoc[0] + 10 * gia_ban_nuoc[1] + 10 * gia_ban_nuoc[2] +(so_nuoc-30) *gia_ban_nuoc[3]\n",
    "    return tien_nuoc\n",
    "so_nuoc = int(input(\"nhap so nuoc\"))\n",
    "\n",
    "print(f\"so tien phai tra cho {so_nuoc} là {tinh_tien_nuoc(so_nuoc)}\")\n"
   ]
  },
  {
   "cell_type": "markdown",
   "id": "c0835310",
   "metadata": {},
   "source": [
    "## Lab 4 - Bài 2"
   ]
  },
  {
   "cell_type": "code",
   "execution_count": 3,
   "id": "fa9cb39f",
   "metadata": {},
   "outputs": [
    {
     "data": {
      "text/plain": [
       "{'sugar': 0.46, 'bean': 0.22000000000000003}"
      ]
     },
     "execution_count": 3,
     "metadata": {},
     "output_type": "execute_result"
    }
   ],
   "source": [
    "# tinh tien nguyen lieu \n",
    "def tinh_nguyen_lieu(sl_bdx, sl_btc, sl_bd):\n",
    "    banh_dau_xanh = {\"duong:\":0.04, \"dau:\":0.07}\n",
    "    banh_thap_cam = {\"duong:\":0.06, \"dau:\":0}\n",
    "    banh_deo = {\"duong:\":0.05, \"dau:\":0.02}\n",
    "    nguyen_lieu ={}\n",
    "    duong_hop_banh = sl_bdx * banh_dau_xanh[\"duong:\"] + sl_btc * banh_thap_cam[\"duong:\"] + sl_bd * banh_deo[\"duong:\"]\n",
    "    dau_hop_banh = sl_bdx * banh_dau_xanh[\"dau:\"] + sl_btc * banh_thap_cam[\"dau:\"] + sl_bd * banh_deo[\"dau:\"]\n",
    "    nguyen_lieu = {\"sugar\": duong_hop_banh, \"bean\": dau_hop_banh}\n",
    "    return nguyen_lieu\n",
    "\n",
    "sl_bdx = int(input(\"nhap sl bdx\"))\n",
    "sl_btc = int(input(\"nhap sl btc\"))\n",
    "sl_bd = int(input(\"nhap sl bd\"))\n",
    "\n",
    "tinh_nguyen_lieu(sl_bdx, sl_btc, sl_bd)"
   ]
  },
  {
   "cell_type": "markdown",
   "id": "0f2483fe",
   "metadata": {},
   "source": [
    "## Lab 4 - Bài 3"
   ]
  },
  {
   "cell_type": "code",
   "execution_count": null,
   "id": "7034990b",
   "metadata": {},
   "outputs": [
    {
     "name": "stdout",
     "output_type": "stream",
     "text": [
      "Các số chẵn trong dãy là: [2, 4, 6, 8, 0, 10, 12, 14]\n"
     ]
    }
   ],
   "source": [
    "# Nhập dãy số nguyên từ bàn phím (cách nhau bởi dấu cách \" Split() \")\n",
    "day_so = list(map(int, input(\"Nhập dãy số nguyên (cách nhau bởi dấu cách): \").split()))\n",
    "# Hàm map() trong Python là một hàm dựng sẵn dùng để áp dụng một hàm nào đó lên từng phần tử của một dãy\n",
    "\n",
    "so_chan = list(filter(lambda x: x % 2 == 0, day_so))\n",
    "print(\"Các số chẵn trong dãy là:\", so_chan)\n"
   ]
  },
  {
   "cell_type": "markdown",
   "id": "d36ea3d3",
   "metadata": {},
   "source": [
    "## Lab 4 - Bài 4"
   ]
  },
  {
   "cell_type": "code",
   "execution_count": 7,
   "id": "4c707ec1",
   "metadata": {},
   "outputs": [
    {
     "name": "stdout",
     "output_type": "stream",
     "text": [
      "==============================MENU==============================\n",
      "1 : tinh tien nuoc sinh hoat\n",
      "2 : tinh nguyen lieu lam banh\n",
      "3 : thoat\n",
      "===============================================================\n",
      "tinh tien nuoc\n",
      "tien nuoc phai tra cho so nuoc 35 la 403000\n"
     ]
    }
   ],
   "source": [
    "from lab4 import tinh_tien_nuoc\n",
    "from lab4 import tinh_nguyen_lieu\n",
    "menu = {\n",
    "    \"1\" : \"tinh tien nuoc sinh hoat\",\n",
    "    \"2\" : \"tinh nguyen lieu lam banh\",\n",
    "    \"3\" : \"thoat\"\n",
    "}\n",
    "while True:\n",
    "    print(\"===\"*10 + \"MENU\" + \"===\"*10)\n",
    "    for k,v in menu.items():\n",
    "        print(f\"{k} : {v}\")\n",
    "    print(\"===\"*10 + \"===\" + \"===\"*10)\n",
    "    lua_chon = input(\"nhap chuc nang chuong trinh\")\n",
    "    if lua_chon ==\"3\":\n",
    "        print(\"thoat chuong trinh\")\n",
    "        break\n",
    "    elif lua_chon ==\"1\":\n",
    "        print(\"tinh tien nuoc\")\n",
    "        so_nuoc = int(input(\"nhap so nuoc\"))\n",
    "        print(f\"tien nuoc phai tra cho so nuoc {so_nuoc} la {tinh_tien_nuoc(so_nuoc)}\")\n",
    "        break\n",
    "    elif lua_chon == \"2\":\n",
    "        print(\"tinh nguyen lieu\")\n",
    "        sl_bd = int(input(\"nhap sl bd\"))\n",
    "        sl_bdx = int(input(\"nhap sl bdx\"))\n",
    "        sl_btc = int (input(\"nhap sl btc\"))\n",
    "\n",
    "        print(f\"{tinh_nguyen_lieu(sl_bdx, sl_bd, sl_btc)}\")\n",
    "        break\n",
    "        "
   ]
  },
  {
   "cell_type": "markdown",
   "id": "e2b41d4a",
   "metadata": {},
   "source": [
    "## Lab 4 - Bài 5: bài tập làm thêm"
   ]
  },
  {
   "cell_type": "code",
   "execution_count": null,
   "id": "0e0172f7",
   "metadata": {},
   "outputs": [
    {
     "ename": "ImportError",
     "evalue": "cannot import name 'phep_tinh_co_ban' from 'lab4' (c:\\Users\\luong nhat\\OneDrive\\Desktop\\HK4\\DAT2011\\dat2011-Duknath3011\\lab4.py)",
     "output_type": "error",
     "traceback": [
      "\u001b[31m---------------------------------------------------------------------------\u001b[39m",
      "\u001b[31mImportError\u001b[39m                               Traceback (most recent call last)",
      "\u001b[36mCell\u001b[39m\u001b[36m \u001b[39m\u001b[32mIn[22]\u001b[39m\u001b[32m, line 1\u001b[39m\n\u001b[32m----> \u001b[39m\u001b[32m1\u001b[39m \u001b[38;5;28;01mfrom\u001b[39;00m\u001b[38;5;250m \u001b[39m\u001b[34;01mlab4\u001b[39;00m\u001b[38;5;250m \u001b[39m\u001b[38;5;28;01mimport\u001b[39;00m phep_tinh_co_ban\n\u001b[32m      2\u001b[39m menu = {\n\u001b[32m      3\u001b[39m     \u001b[33m\"\u001b[39m\u001b[33m1\u001b[39m\u001b[33m\"\u001b[39m : \u001b[33m\"\u001b[39m\u001b[33mphép tính cơ bản\u001b[39m\u001b[33m\"\u001b[39m,\n\u001b[32m      4\u001b[39m     \u001b[33m\"\u001b[39m\u001b[33m2\u001b[39m\u001b[33m\"\u001b[39m : \u001b[33m\"\u001b[39m\u001b[33mluy thua\u001b[39m\u001b[33m\"\u001b[39m,\n\u001b[32m   (...)\u001b[39m\u001b[32m     12\u001b[39m     \u001b[33m\"\u001b[39m\u001b[33m0\u001b[39m\u001b[33m\"\u001b[39m : \u001b[33m\"\u001b[39m\u001b[33mthoát\u001b[39m\u001b[33m\"\u001b[39m\n\u001b[32m     13\u001b[39m }\n\u001b[32m     14\u001b[39m \u001b[38;5;28;01mwhile\u001b[39;00m \u001b[38;5;28;01mTrue\u001b[39;00m:\n",
      "\u001b[31mImportError\u001b[39m: cannot import name 'phep_tinh_co_ban' from 'lab4' (c:\\Users\\luong nhat\\OneDrive\\Desktop\\HK4\\DAT2011\\dat2011-Duknath3011\\lab4.py)"
     ]
    }
   ],
   "source": [
    "from lab4 import phep_tinh_co_ban, luy_thua, can_bac_hai, ham_luong_giac, logarit, giai_pt_bac_1, giai_pt_bac_2, xem_lich_su, thoi_gian \n",
    "menu = {\n",
    "    \"1\" : \"phép tính cơ bản\",\n",
    "    \"2\" : \"luy thua\",\n",
    "    \"3\" : \"Căn bậc hai\",\n",
    "    \"4\" : \"hàm lượng giác\",\n",
    "    \"5\" : \"logarit\",\n",
    "    \"6\" : \"giải pt bậc nhất\",\n",
    "    \"7\" : \"giải pt bậc 2\",\n",
    "    \"8\" : \"xem lịch sử\",\n",
    "    \"9\" : \"xem thời gian\",\n",
    "    \"0\" : \"thoát\"\n",
    "}\n",
    "while True:\n",
    "    print(\"===\"*10 + \"menu\" + \"===\"*10)\n",
    "    for k,v in menu.items():\n",
    "        print(f\"{k}: {v}\")\n",
    "    print(\"===\"*10 +\"===\"+\"===\"*10)\n",
    "    \n",
    "    choice = input(\"Chọn chức năng: \")\n",
    "    \n",
    "    if choice == \"1\":\n",
    "        print(\"Phép tính cơ bản\")\n",
    "        phep_tinh_co_ban()\n",
    "        break\n",
    "    elif choice == \"2\":\n",
    "        luy_thua()\n",
    "    elif choice == \"3\":\n",
    "        can_bac_hai()\n",
    "    elif choice == \"4\":\n",
    "        ham_luong_giac()\n",
    "    elif choice == \"5\":\n",
    "        logarit()\n",
    "    elif choice == \"6\":\n",
    "        giai_pt_bac_1()\n",
    "    elif choice == \"7\":\n",
    "        giai_pt_bac_2()\n",
    "    elif choice == \"8\":\n",
    "        xem_lich_su()\n",
    "    elif choice == \"9\":\n",
    "        thoi_gian()\n",
    "    elif choice == \"0\":\n",
    "        print(\"Tạm biệt!\")\n",
    "        break\n",
    "    else:\n",
    "        print(\"Lựa chọn không hợp lệ!\")"
   ]
  }
 ],
 "metadata": {
  "kernelspec": {
   "display_name": "Python 3",
   "language": "python",
   "name": "python3"
  },
  "language_info": {
   "codemirror_mode": {
    "name": "ipython",
    "version": 3
   },
   "file_extension": ".py",
   "mimetype": "text/x-python",
   "name": "python",
   "nbconvert_exporter": "python",
   "pygments_lexer": "ipython3",
   "version": "3.13.8"
  }
 },
 "nbformat": 4,
 "nbformat_minor": 5
}
