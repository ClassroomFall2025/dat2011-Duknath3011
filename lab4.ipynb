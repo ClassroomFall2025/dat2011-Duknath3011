{
 "cells": [
  {
   "cell_type": "markdown",
   "id": "fdeff819",
   "metadata": {},
   "source": [
    "# Sinh Viên thực hiện Lab 4 ở Đây"
   ]
  },
  {
   "cell_type": "markdown",
   "id": "acc5d7dc",
   "metadata": {},
   "source": [
    "## Lab 1 - Bài 1"
   ]
  },
  {
   "cell_type": "code",
   "execution_count": null,
   "id": "001e0507",
   "metadata": {},
   "outputs": [
    {
     "data": {
      "text/plain": [
       "163000"
      ]
     },
     "execution_count": 2,
     "metadata": {},
     "output_type": "execute_result"
    }
   ],
   "source": [
    "def tinh_tien_nuoc(so_nuoc):\n",
    "    gia_ban_nuoc = (7500,8800,12000,24000)\n",
    "    if so_nuoc < 10:\n",
    "        tien_nuoc = so_nuoc * gia_ban_nuoc[0]\n",
    "    elif so_nuoc <= 20:\n",
    "        tien_nuoc = 10 * gia_ban_nuoc[0] + (so_nuoc-10) * gia_ban_nuoc[1]\n",
    "    elif so_nuoc <= 30:\n",
    "        tien_nuoc = 10 * gia_ban_nuoc[0] + 10 * gia_ban_nuoc[1] +(so_nuoc -20) *gia_ban_nuoc[2]\n",
    "    else:\n",
    "        tien_nuoc = 10 * gia_ban_nuoc[0] + 10 * gia_ban_nuoc[1] + 10 * gia_ban_nuoc[2] +(so_nuoc-30) *gia_ban_nuoc[3]\n",
    "    return tien_nuoc\n",
    "so_nuoc = int(input(\"nhap so nuoc\"))\n",
    "\n",
    "print(f\"so tien phai tra cho {so_nuoc} là {tinh_tien_nuoc(so_nuoc)}\")\n"
   ]
  },
  {
   "cell_type": "markdown",
   "id": "c0835310",
   "metadata": {},
   "source": [
    "## Lab 4 - Bài 2"
   ]
  },
  {
   "cell_type": "code",
   "execution_count": 3,
   "id": "fa9cb39f",
   "metadata": {},
   "outputs": [
    {
     "data": {
      "text/plain": [
       "{'sugar': 0.46, 'bean': 0.22000000000000003}"
      ]
     },
     "execution_count": 3,
     "metadata": {},
     "output_type": "execute_result"
    }
   ],
   "source": [
    "# tinh tien nguyen lieu \n",
    "def tinh_nguyen_lieu(sl_bdx, sl_btc, sl_bd):\n",
    "    banh_dau_xanh = {\"duong:\":0.04, \"dau:\":0.07}\n",
    "    banh_thap_cam = {\"duong:\":0.06, \"dau:\":0}\n",
    "    banh_deo = {\"duong:\":0.05, \"dau:\":0.02}\n",
    "    nguyen_lieu ={}\n",
    "    duong_hop_banh = sl_bdx * banh_dau_xanh[\"duong:\"] + sl_btc * banh_thap_cam[\"duong:\"] + sl_bd * banh_deo[\"duong:\"]\n",
    "    dau_hop_banh = sl_bdx * banh_dau_xanh[\"dau:\"] + sl_btc * banh_thap_cam[\"dau:\"] + sl_bd * banh_deo[\"dau:\"]\n",
    "    nguyen_lieu = {\"sugar\": duong_hop_banh, \"bean\": dau_hop_banh}\n",
    "    return nguyen_lieu\n",
    "\n",
    "sl_bdx = int(input(\"nhap sl bdx\"))\n",
    "sl_btc = int(input(\"nhap sl btc\"))\n",
    "sl_bd = int(input(\"nhap sl bd\"))\n",
    "\n",
    "tinh_nguyen_lieu(sl_bdx, sl_btc, sl_bd)"
   ]
  },
  {
   "cell_type": "markdown",
   "id": "0f2483fe",
   "metadata": {},
   "source": [
    "## Lab 4 - Bài 3"
   ]
  },
  {
   "cell_type": "code",
   "execution_count": null,
   "id": "7034990b",
   "metadata": {},
   "outputs": [
    {
     "name": "stdout",
     "output_type": "stream",
     "text": [
      "Các số chẵn trong dãy là: [2, 4, 6, 8, 0, 10, 12, 14]\n"
     ]
    }
   ],
   "source": [
    "# Nhập dãy số nguyên từ bàn phím (cách nhau bởi dấu cách \" Split() \")\n",
    "day_so = list(map(int, input(\"Nhập dãy số nguyên (cách nhau bởi dấu cách): \").split()))\n",
    "# Hàm map() trong Python là một hàm dựng sẵn dùng để áp dụng một hàm nào đó lên từng phần tử của một dãy\n",
    "\n",
    "so_chan = list(filter(lambda x: x % 2 == 0, day_so))\n",
    "print(\"Các số chẵn trong dãy là:\", so_chan)\n"
   ]
  },
  {
   "cell_type": "markdown",
   "id": "d36ea3d3",
   "metadata": {},
   "source": [
    "## Lab 4 - Bài 4"
   ]
  },
  {
   "cell_type": "code",
   "execution_count": 2,
   "id": "4c707ec1",
   "metadata": {},
   "outputs": [
    {
     "name": "stdout",
     "output_type": "stream",
     "text": [
      "==============================MENU==============================\n",
      "1 : tinh tien nuoc sinh hoat\n",
      "2 : tinh nguyen lieu lam banh\n",
      "3 : thoat\n",
      "===============================================================\n",
      "tinh nguyen lieu\n",
      "{'sugar': 0.29000000000000004, 'bean': 0.2}\n"
     ]
    }
   ],
   "source": [
    "from lab4 import tinh_tien_nuoc\n",
    "from lab4 import tinh_nguyen_lieu\n",
    "menu = {\n",
    "    \"1\" : \"tinh tien nuoc sinh hoat\",\n",
    "    \"2\" : \"tinh nguyen lieu lam banh\",\n",
    "    \"3\" : \"thoat\"\n",
    "}\n",
    "while True:\n",
    "    print(\"===\"*10 + \"MENU\" + \"===\"*10)\n",
    "    for k,v in menu.items():\n",
    "        print(f\"{k} : {v}\")\n",
    "    print(\"===\"*10 + \"===\" + \"===\"*10)\n",
    "    lua_chon = input(\"nhap chuc nang chuong trinh\")\n",
    "    if lua_chon ==\"3\":\n",
    "        print(\"thoat chuong trinh\")\n",
    "        break\n",
    "    elif lua_chon ==\"1\":\n",
    "        print(\"tinh tien nuoc\")\n",
    "        so_nuoc = int(input(\"nhap so nuoc\"))\n",
    "        print(f\"tien nuoc phai tra cho so nuoc {so_nuoc} la {tinh_tien_nuoc(so_nuoc)}\")\n",
    "        break\n",
    "    elif lua_chon == \"2\":\n",
    "        print(\"tinh nguyen lieu\")\n",
    "        sl_bd = int(input(\"nhap sl bd\"))\n",
    "        sl_bdx = int(input(\"nhap sl bdx\"))\n",
    "        sl_btc = int (input(\"nhap sl btc\"))\n",
    "\n",
    "        print(f\"{tinh_nguyen_lieu(sl_bdx, sl_bd, sl_btc)}\")\n",
    "        break\n",
    "        "
   ]
  },
  {
   "cell_type": "markdown",
   "id": "e2b41d4a",
   "metadata": {},
   "source": [
    "## Lab 4 - Bài 5: bài tập làm thêm"
   ]
  },
  {
   "cell_type": "code",
   "execution_count": null,
   "id": "0e0172f7",
   "metadata": {},
   "outputs": [],
   "source": [
    "# code lab 4  bài làm thêm ở đây "
   ]
  }
 ],
 "metadata": {
  "kernelspec": {
   "display_name": "Python 3",
   "language": "python",
   "name": "python3"
  },
  "language_info": {
   "codemirror_mode": {
    "name": "ipython",
    "version": 3
   },
   "file_extension": ".py",
   "mimetype": "text/x-python",
   "name": "python",
   "nbconvert_exporter": "python",
   "pygments_lexer": "ipython3",
   "version": "3.13.7"
  }
 },
 "nbformat": 4,
 "nbformat_minor": 5
}
