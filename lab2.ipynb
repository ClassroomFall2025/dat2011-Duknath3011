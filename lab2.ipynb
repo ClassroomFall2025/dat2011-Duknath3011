{
 "cells": [
  {
   "cell_type": "markdown",
   "id": "fdeff819",
   "metadata": {},
   "source": [
    "# Sinh Viên thực hiện Lab 2 ở Đây"
   ]
  },
  {
   "cell_type": "markdown",
   "id": "acc5d7dc",
   "metadata": {},
   "source": [
    "## Lab 2 - Bài 1"
   ]
  },
  {
   "cell_type": "code",
   "execution_count": 23,
   "id": "001e0507",
   "metadata": {},
   "outputs": [
    {
     "name": "stdout",
     "output_type": "stream",
     "text": [
      "True\n",
      "5\n",
      "9\n"
     ]
    },
    {
     "data": {
      "text/plain": [
       "'CON NGƯỜI'"
      ]
     },
     "execution_count": 23,
     "metadata": {},
     "output_type": "execute_result"
    }
   ],
   "source": [
    "bai_tho = \"\"\"kiếp con người mỏng manh như là gió\n",
    "sống trên đời có được mấy lần vui\n",
    "sao phải đau mà không thể mỉm cười\n",
    "gắng buông nỗi ngậm ngùi trong quá khứ\n",
    "nếu có thể sao ta không làm thử\n",
    "để tâm hồn khắc hai chữ bình an\n",
    "cho đôi chân bước thanh thản nhẹ nhàng\n",
    "dù hướng đời có muôn ngàn đá sỏi\"\"\"\n",
    "\n",
    "#1 tìm kiếm có từ con người trong chuỗi hay không\n",
    "print(\"con người\"in bai_tho) #kiểm tra có tồn tại không #trả về true or flase\n",
    "timkiem = bai_tho.find(\"con người\") #Trả về index\n",
    "print(timkiem)\n",
    "\n",
    "#2 trích ra 1 phần của chuỗi để lấy từ \"con người\" trong câu đầu tiên\n",
    "    # hàm len() đếm số ký tự\n",
    "ketthuc = len(\"con người\")\n",
    "print(ketthuc)\n",
    "bai_tho[timkiem:ketthuc + timkiem].upper()\n",
    "\n",
    "    # start = bai_tho.find(\"thanh thản\")\n",
    "    # end = len(\"thanh thản\")\n",
    "    # bai_tho[start:end + start]\n",
    "\n",
    "    # search_string = input(\"nhập chuỗi cần tìm: \")\n",
    "    # timkiem1 = bai_tho.find(search_string)\n",
    "    # end = len(search_string)\n",
    "    # bai_tho[timkiem1:end + timkiem1].upper()\n",
    "\n",
    "#3 in hoa chữ con người trong bài thơ\n",
    "\n"
   ]
  },
  {
   "cell_type": "markdown",
   "id": "c0835310",
   "metadata": {},
   "source": [
    "## Lab 2 - Bài 2"
   ]
  },
  {
   "cell_type": "code",
   "execution_count": 25,
   "id": "fa9cb39f",
   "metadata": {},
   "outputs": [
    {
     "name": "stdout",
     "output_type": "stream",
     "text": [
      "kiếp con người mỏng manh như là gió\n",
      "sống trên đời có được mấy lần vui\n",
      "sao phải đau mà không thể mỉm cười\n",
      "gắng buông nỗi ngậm ngùi trong quá khứ\n",
      "nếu có thể sao ta không làm thử\n",
      "để tâm hồn khắc hai chữ hạnh phúc\n",
      "cho đôi chân bước thanh thản nhẹ nhàng\n",
      "dù hướng đời có muôn ngàn đá sỏi\n",
      "\n",
      "\n",
      "\"...kiếp con người mỏng manh như là gió\n",
      "sống trên đời có được mấy lần vui\n",
      "sao phải đau mà không thể mỉm cười\n",
      "gắng buông nỗi ngậm ngùi trong quá khứ\n",
      "nếu có thể sao ta không làm thử\n",
      "để tâm hồn khắc hai chữ bình an\n",
      "cho đôi chân bước thanh thản nhẹ nhàng\n",
      "dù hướng đời có muôn ngàn đá sỏi...\"\n"
     ]
    }
   ],
   "source": [
    "bai_tho = \"\"\"kiếp con người mỏng manh như là gió\n",
    "sống trên đời có được mấy lần vui\n",
    "sao phải đau mà không thể mỉm cười\n",
    "gắng buông nỗi ngậm ngùi trong quá khứ\n",
    "nếu có thể sao ta không làm thử\n",
    "để tâm hồn khắc hai chữ bình an\n",
    "cho đôi chân bước thanh thản nhẹ nhàng\n",
    "dù hướng đời có muôn ngàn đá sỏi\"\"\"\n",
    "\n",
    "đầu = '\"...'\n",
    "cuối = '...\"'\n",
    "hoan_thanh = đầu + bai_tho + cuối\n",
    "\n",
    "print(bai_tho.replace(\"bình an\",\"hạnh phúc\"))\n",
    "print(\"\\n\")\n",
    "print(hoan_thanh)"
   ]
  },
  {
   "cell_type": "markdown",
   "id": "0f2483fe",
   "metadata": {},
   "source": [
    "## Lab 2 - Bài 3"
   ]
  },
  {
   "cell_type": "code",
   "execution_count": 7,
   "id": "7034990b",
   "metadata": {},
   "outputs": [
    {
     "name": "stdout",
     "output_type": "stream",
     "text": [
      "nghiem cua phuong trinh la  -0.0\n"
     ]
    }
   ],
   "source": [
    "import math\n",
    "a = float(input(\"nhap a: \"))\n",
    "b = float(input(\"nhap b: \"))\n",
    "\n",
    "if a==0:\n",
    "    if b==0:\n",
    "        print(\"phuong trinh vo so nghiem\")\n",
    "    else:\n",
    "        print(\"phuong trinh vo nghiem\")\n",
    "else:\n",
    "    print(\"nghiem cua phuong trinh la \",-b/a)\n"
   ]
  },
  {
   "cell_type": "markdown",
   "id": "d36ea3d3",
   "metadata": {},
   "source": [
    "## Lab 2 - Bài 4"
   ]
  },
  {
   "cell_type": "code",
   "execution_count": 12,
   "id": "4c707ec1",
   "metadata": {},
   "outputs": [
    {
     "name": "stdout",
     "output_type": "stream",
     "text": [
      "Delta:  -20.0\n",
      "phuong trinh vo nghiem\n"
     ]
    }
   ],
   "source": [
    "a = float(input(\"nhap a: \"))\n",
    "b = float(input(\"nhap b: \"))\n",
    "c = float(input(\"nhap c: \"))\n",
    "\n",
    "if a==0:\n",
    "    print(\"nghiem cua phuong trinh bac nhat \")\n",
    "else:\n",
    "    delta=pow(b,2)-4*a*c\n",
    "    print('Delta: ',delta)\n",
    "    if delta>0:\n",
    "        print(\"phuong trinh co 2 nghiem phan biet: \")\n",
    "        print(\"x1 = \",(-b+abs(delta))/(2*a))\n",
    "        print(\"x2 = \",(-b-abs(delta))/(2*a))\n",
    "    if delta==0:\n",
    "        print(\"phuong trinh co nghiem kep: \",-b/(2*a))\n",
    "    else:\n",
    "        print(\"phuong trinh vo nghiem\")"
   ]
  },
  {
   "cell_type": "markdown",
   "id": "e2b41d4a",
   "metadata": {},
   "source": [
    "## Lab 2 - Bài 5: bài tập làm thêm"
   ]
  },
  {
   "cell_type": "code",
   "execution_count": null,
   "id": "0e0172f7",
   "metadata": {},
   "outputs": [],
   "source": [
    "# code lab 2  bài làm thêm ở đây "
   ]
  }
 ],
 "metadata": {
  "kernelspec": {
   "display_name": "Python 3",
   "language": "python",
   "name": "python3"
  },
  "language_info": {
   "codemirror_mode": {
    "name": "ipython",
    "version": 3
   },
   "file_extension": ".py",
   "mimetype": "text/x-python",
   "name": "python",
   "nbconvert_exporter": "python",
   "pygments_lexer": "ipython3",
   "version": "3.13.7"
  }
 },
 "nbformat": 4,
 "nbformat_minor": 5
}
