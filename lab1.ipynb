{
 "cells": [
  {
   "cell_type": "markdown",
   "id": "fdeff819",
   "metadata": {},
   "source": [
    "# Sinh Viên thực hiện Lab 1 ở Đây"
   ]
  },
  {
   "cell_type": "markdown",
   "id": "acc5d7dc",
   "metadata": {},
   "source": [
    "## Lab 1 - Bài 1"
   ]
  },
  {
   "cell_type": "code",
   "execution_count": 1,
   "id": "001e0507",
   "metadata": {},
   "outputs": [
    {
     "name": "stdout",
     "output_type": "stream",
     "text": [
      "Hello!\n",
      "toi ten la Nhat\n",
      "toi den tu sai gon\n"
     ]
    }
   ],
   "source": [
    "print(\"Hello!\")\n",
    "print(\"toi ten la Nhat\")\n",
    "print(\"toi den tu sai gon\")"
   ]
  },
  {
   "cell_type": "markdown",
   "id": "c0835310",
   "metadata": {},
   "source": [
    "## Lab 1 - Bài 2"
   ]
  },
  {
   "cell_type": "code",
   "execution_count": 2,
   "id": "fa9cb39f",
   "metadata": {},
   "outputs": [
    {
     "name": "stdout",
     "output_type": "stream",
     "text": [
      "Chu vi hình chữ nhật: 16.0\n",
      "Diện tích hình chữ nhật: 15.0\n"
     ]
    }
   ],
   "source": [
    "# Nhập 2 cạnh của hình chữ nhật\n",
    "a = float(input(\"Nhập chiều dài: \"))\n",
    "b = float(input(\"Nhập chiều rộng: \"))\n",
    "\n",
    "# Tính chu vi và diện tích\n",
    "chu_vi = 2 * (a + b)\n",
    "dien_tich = a * b\n",
    "\n",
    "# Xuất kết quả ra màn hình\n",
    "print(\"Chu vi hình chữ nhật:\", chu_vi)\n",
    "print(\"Diện tích hình chữ nhật:\", dien_tich)\n"
   ]
  },
  {
   "cell_type": "markdown",
   "id": "0f2483fe",
   "metadata": {},
   "source": [
    "## Lab 1 - Bài 3"
   ]
  },
  {
   "cell_type": "code",
   "execution_count": 3,
   "id": "7034990b",
   "metadata": {},
   "outputs": [
    {
     "name": "stdout",
     "output_type": "stream",
     "text": [
      "\"\n",
      "Sống không giận, không hờn không oán trách\n",
      "Sống mỉm cười, với thử thách chông gai\n",
      "Sống vươn lên, theo kịp ánh ban mai\n",
      "Sống chan hòa, với những người chung sống.\n",
      "\n",
      "Sống là động, nhưng lòng luôn bất động\n",
      "Sống là thương, nhưng lòng chẳng vấn vương\n",
      "Sống vui, danh lợi mãi coi thường\n",
      "Tâm bất biến, giữa dòng đời vạn biến.\n",
      "\"\n"
     ]
    }
   ],
   "source": [
    "# Khai báo biến\n",
    "word = \"Sống\"\n",
    "\n",
    "print('\"')   # In dấu nháy kép mở đầu\n",
    "\n",
    "print(f\"{word} không giận, không hờn không oán trách\")\n",
    "print(f\"{word} mỉm cười, với thử thách chông gai\")\n",
    "print(f\"{word} vươn lên, theo kịp ánh ban mai\")\n",
    "print(f\"{word} chan hòa, với những người chung sống.\")\n",
    "\n",
    "print()  # dòng trống giữa 2 khổ\n",
    "\n",
    "print(f\"{word} là động, nhưng lòng luôn bất động\")\n",
    "print(f\"{word} là thương, nhưng lòng chẳng vấn vương\")\n",
    "print(f\"{word} vui, danh lợi mãi coi thường\")\n",
    "print(\"Tâm bất biến, giữa dòng đời vạn biến.\")\n",
    "\n",
    "print('\"')   # In dấu nháy kép kết thúc"
   ]
  },
  {
   "cell_type": "markdown",
   "id": "d36ea3d3",
   "metadata": {},
   "source": [
    "## Lab 1 - Bài 4"
   ]
  },
  {
   "cell_type": "code",
   "execution_count": null,
   "id": "4c707ec1",
   "metadata": {},
   "outputs": [],
   "source": [
    "import math\n",
    "a = float(input(\"Nhập a: \"))\n",
    "b = float(input(\"Nhập b: \"))\n",
    "c = float(input(\"Nhập c: \"))\n",
    "\n",
    "# Tính delta\n",
    "delta = b * b - 4 * a * c\n",
    "print(\"Giá trị delta:\", delta)\n",
    "\n",
    "# Nếu delta >= 0 thì tính căn delta\n",
    "if delta >= 0:\n",
    "    can_delta = math.sqrt(delta)\n",
    "    print(\"Căn delta:\", can_delta)\n",
    "else:\n",
    "    print(\"Delta âm -> phương trình vô nghiệm thực, không tính được căn delt\")\n"
   ]
  },
  {
   "cell_type": "markdown",
   "id": "e2b41d4a",
   "metadata": {},
   "source": [
    "## Lab 1 - Bài 5: bài tập làm thêm"
   ]
  },
  {
   "cell_type": "code",
   "execution_count": null,
   "id": "0e0172f7",
   "metadata": {},
   "outputs": [],
   "source": [
    "# code lab 1  bài làm thêm ở đây "
   ]
  }
 ],
 "metadata": {
  "kernelspec": {
   "display_name": "Python 3",
   "language": "python",
   "name": "python3"
  },
  "language_info": {
   "codemirror_mode": {
    "name": "ipython",
    "version": 3
   },
   "file_extension": ".py",
   "mimetype": "text/x-python",
   "name": "python",
   "nbconvert_exporter": "python",
   "pygments_lexer": "ipython3",
   "version": "3.13.7"
  }
 },
 "nbformat": 4,
 "nbformat_minor": 5
}
