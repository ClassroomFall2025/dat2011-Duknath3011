{
 "cells": [
  {
   "cell_type": "markdown",
   "id": "fdeff819",
   "metadata": {},
   "source": [
    "# Sinh Viên thực hiện Lab 3 ở Đây"
   ]
  },
  {
   "cell_type": "markdown",
   "id": "acc5d7dc",
   "metadata": {},
   "source": [
    "## Lab 3 - Bài 1"
   ]
  },
  {
   "cell_type": "code",
   "execution_count": null,
   "id": "001e0507",
   "metadata": {},
   "outputs": [
    {
     "name": "stdout",
     "output_type": "stream",
     "text": [
      "day so sau khi sap xep theo thu tu tang dan [9, 9, 12, 19, 19, 20, 21, 23, 59, 77]\n",
      "so nho nhat trong day so la:  9\n",
      "51 4\n",
      "gia tri can tim la: 12.75\n"
     ]
    }
   ],
   "source": [
    "danh_sach = [9, 59, 21, 9, 20, 23, 19, 12, 19, 77]\n",
    "danh_sach.sort()\n",
    "print(\"day so sau khi sap xep theo thu tu tang dan\",danh_sach)\n",
    "print(\"so nho nhat trong day so la: \",danh_sach[0])\n",
    " \n",
    "tong =0\n",
    "dem =0 \n",
    "for i in danh_sach:\n",
    "    if i%3==0:\n",
    "        tong+=i\n",
    "        dem+=1\n",
    "# xuat thong tin \n",
    "print(tong,dem)\n",
    "if dem !=0:\n",
    "    print(\"gia tri can tim la:\",tong/dem)\n",
    "else:\n",
    "    print(\"khong co so nao chia het cho 3!!!\")\n",
    "\n",
    "# chia3 = [x for x in danh_sach if x % 3 == 0]\n",
    "# if chia3:\n",
    "#     avg = sum(chia3) / len(chia3)\n",
    "#     print(\"trung binh cong cac phan tu chia het cho 3: \",avg)\n",
    "# else:\n",
    "#     print(\"khong phan tu nao chia het cho 3\")\n",
    "\n",
    "# vong lap vi du:\n",
    "# tong = 0\n",
    "# i=10\n",
    "# while i>=0:\n",
    "#     tong+= i\n",
    "#     i-=1\n",
    "# print(tong)\n",
    "\n",
    "\n",
    "# day_so = []\n",
    "# while True:\n",
    "#     so = input(\"nhap so:\")\n",
    "#     if so.lower() == \"q\":\n",
    "#         print(\"thoat khong nhap\")\n",
    "#         break\n",
    "#     else:\n",
    "#         phan_tu = int(so)\n",
    "#         day_so.append(phan_tu)\n",
    "#     print(day_so)"
   ]
  },
  {
   "cell_type": "markdown",
   "id": "c0835310",
   "metadata": {},
   "source": [
    "## Lab 3 - Bài 2"
   ]
  },
  {
   "cell_type": "code",
   "execution_count": 13,
   "id": "fa9cb39f",
   "metadata": {},
   "outputs": [
    {
     "name": "stdout",
     "output_type": "stream",
     "text": [
      "\n",
      " nhap thong tin sinh vien thu 1:\n",
      "\n",
      " nhap thong tin sinh vien thu 2:\n",
      "\n",
      " --- danh sach sinh vien ---\n",
      "Họ tên: duc nhat, Điểm: 10.0, Xếp loại: Xuất sắc\n",
      "Họ tên: tai7, Điểm: 7.0, Xếp loại: Khá\n"
     ]
    }
   ],
   "source": [
    "# chuong trinh xep loai diem \n",
    "def xep_loai(diem):\n",
    "    if diem < 5:\n",
    "        return \"Yếu\"\n",
    "    elif diem < 7:\n",
    "        return \"Trung bình\"\n",
    "    elif diem < 8:\n",
    "        return \"Khá\"\n",
    "    elif diem < 9:\n",
    "        return \"Giỏi\"\n",
    "    else:\n",
    "        return \"Xuất sắc\"\n",
    "\n",
    "    #nhap so luong sinh vien \n",
    "n = int(input(\"nhap so luong sinh vien: \"))\n",
    "\n",
    "# danh sach de luu thong tin sinh vien\n",
    "sinh_vien_list = []\n",
    "for i in range(n):\n",
    "    print(f\"\\n nhap thong tin sinh vien thu {i+1}:\")\n",
    "    ho_ten = input(\"ho ten: \")\n",
    "    diem = float(input(\"diem: \"))\n",
    "    loai = xep_loai(diem)\n",
    "\n",
    "    # luu danh sach duoi dang dictionary\n",
    "    sinh_vien_list.append({\n",
    "        \"Họ tên\": ho_ten,\n",
    "        \"Điểm\": diem,\n",
    "        \"Xếp loại\": loai\n",
    "    })\n",
    "\n",
    "# xuat thong tin sinh vien \n",
    "print(\"\\n --- danh sach sinh vien ---\")\n",
    "for sv in sinh_vien_list:\n",
    "    print(f\"Họ tên: {sv['Họ tên']}, Điểm: {sv['Điểm']}, Xếp loại: {sv['Xếp loại']}\")"
   ]
  },
  {
   "cell_type": "markdown",
   "id": "0f2483fe",
   "metadata": {},
   "source": [
    "## Lab 3 - Bài 3"
   ]
  },
  {
   "cell_type": "code",
   "execution_count": 5,
   "id": "7034990b",
   "metadata": {},
   "outputs": [
    {
     "name": "stdout",
     "output_type": "stream",
     "text": [
      "6 khong phai la so nguyen\n"
     ]
    }
   ],
   "source": [
    "n = int(input(\"nhap so: \"))\n",
    "ok = True\n",
    "i = 2 \n",
    "if n < 2:\n",
    "    ok = False\n",
    "else:\n",
    "    while i < n:\n",
    "        if n % i ==0:\n",
    "            ok = False\n",
    "            break\n",
    "        i+=1\n",
    "\n",
    "if ok:\n",
    "    print(n,\"la so nguyen to\")\n",
    "else:\n",
    "    print(n,\"khong phai la so nguyen\")"
   ]
  },
  {
   "cell_type": "markdown",
   "id": "d36ea3d3",
   "metadata": {},
   "source": [
    "## Lab 3 - Bài 4"
   ]
  },
  {
   "cell_type": "code",
   "execution_count": 11,
   "id": "4c707ec1",
   "metadata": {},
   "outputs": [
    {
     "name": "stdout",
     "output_type": "stream",
     "text": [
      "1 x 1 = 1\t1 x 2 = 2\t1 x 3 = 3\t1 x 4 = 4\t1 x 5 = 5\t1 x 6 = 6\t1 x 7 = 7\t1 x 8 = 8\t1 x 9 = 9\t\n",
      "2 x 1 = 2\t2 x 2 = 4\t2 x 3 = 6\t2 x 4 = 8\t2 x 5 = 10\t2 x 6 = 12\t2 x 7 = 14\t2 x 8 = 16\t2 x 9 = 18\t\n",
      "3 x 1 = 3\t3 x 2 = 6\t3 x 3 = 9\t3 x 4 = 12\t3 x 5 = 15\t3 x 6 = 18\t3 x 7 = 21\t3 x 8 = 24\t3 x 9 = 27\t\n",
      "4 x 1 = 4\t4 x 2 = 8\t4 x 3 = 12\t4 x 4 = 16\t4 x 5 = 20\t4 x 6 = 24\t4 x 7 = 28\t4 x 8 = 32\t4 x 9 = 36\t\n",
      "5 x 1 = 5\t5 x 2 = 10\t5 x 3 = 15\t5 x 4 = 20\t5 x 5 = 25\t5 x 6 = 30\t5 x 7 = 35\t5 x 8 = 40\t5 x 9 = 45\t\n",
      "6 x 1 = 6\t6 x 2 = 12\t6 x 3 = 18\t6 x 4 = 24\t6 x 5 = 30\t6 x 6 = 36\t6 x 7 = 42\t6 x 8 = 48\t6 x 9 = 54\t\n",
      "7 x 1 = 7\t7 x 2 = 14\t7 x 3 = 21\t7 x 4 = 28\t7 x 5 = 35\t7 x 6 = 42\t7 x 7 = 49\t7 x 8 = 56\t7 x 9 = 63\t\n",
      "8 x 1 = 8\t8 x 2 = 16\t8 x 3 = 24\t8 x 4 = 32\t8 x 5 = 40\t8 x 6 = 48\t8 x 7 = 56\t8 x 8 = 64\t8 x 9 = 72\t\n",
      "9 x 1 = 9\t9 x 2 = 18\t9 x 3 = 27\t9 x 4 = 36\t9 x 5 = 45\t9 x 6 = 54\t9 x 7 = 63\t9 x 8 = 72\t9 x 9 = 81\t\n"
     ]
    }
   ],
   "source": [
    "for i in range(1, 10):              # dòng (1 -> 9)\n",
    "    for j in range(1, 10):          # cột (1 -> 9)\n",
    "        print(\"%d x %d = %d\"%(i,j,i*j), end=\"\\t\")  # in kèm tab cho đẹp\n",
    "    print()  # xuống dòng sau khi in hết 1 hàng\n"
   ]
  },
  {
   "cell_type": "markdown",
   "id": "e2b41d4a",
   "metadata": {},
   "source": [
    "## Lab 3 - Bài 5: bài tập làm thêm"
   ]
  },
  {
   "cell_type": "code",
   "execution_count": null,
   "id": "0e0172f7",
   "metadata": {},
   "outputs": [],
   "source": [
    "# code lab 3  bài làm thêm ở đây "
   ]
  }
 ],
 "metadata": {
  "kernelspec": {
   "display_name": "Python 3",
   "language": "python",
   "name": "python3"
  },
  "language_info": {
   "codemirror_mode": {
    "name": "ipython",
    "version": 3
   },
   "file_extension": ".py",
   "mimetype": "text/x-python",
   "name": "python",
   "nbconvert_exporter": "python",
   "pygments_lexer": "ipython3",
   "version": "3.13.7"
  }
 },
 "nbformat": 4,
 "nbformat_minor": 5
}
