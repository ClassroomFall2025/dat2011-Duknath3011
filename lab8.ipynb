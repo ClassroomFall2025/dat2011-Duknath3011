{
 "cells": [
  {
   "cell_type": "markdown",
   "id": "fdeff819",
   "metadata": {},
   "source": [
    "# Sinh Viên thực hiện Lab 8 ở Đây"
   ]
  },
  {
   "cell_type": "markdown",
   "id": "acc5d7dc",
   "metadata": {},
   "source": [
    "## Lab 8 - Bài 1"
   ]
  },
  {
   "cell_type": "code",
   "execution_count": 6,
   "id": "001e0507",
   "metadata": {},
   "outputs": [
    {
     "name": "stdout",
     "output_type": "stream",
     "text": [
      "Họ: LƯƠNG\n",
      "Tên đệm: Duy Đức\n",
      "Tên: NHẬT\n"
     ]
    }
   ],
   "source": [
    "ho_ten = input(\"Nhập họ và tên của bạn: \")\n",
    "tu = ho_ten.split()\n",
    "ho = tu[0]\n",
    "ten = tu[-1]\n",
    "ten_dem = \" \".join(tu[1:-1])\n",
    "print(\"Họ:\", ho.upper())\n",
    "print(\"Tên đệm:\", ten_dem)\n",
    "print(\"Tên:\", ten.upper())"
   ]
  },
  {
   "cell_type": "markdown",
   "id": "c0835310",
   "metadata": {},
   "source": [
    "## Lab 8 - Bài 2"
   ]
  },
  {
   "cell_type": "code",
   "execution_count": 7,
   "id": "fa9cb39f",
   "metadata": {},
   "outputs": [
    {
     "name": "stdout",
     "output_type": "stream",
     "text": [
      "\n",
      "--- Thông tin sinh viên ---\n",
      "Họ tên: Lương Duy Đức Nhật\n",
      "Email: nhatluong30112005@gmail.com\n",
      "Số điện thoại: 0355544558\n",
      "CMND: 079205016123\n"
     ]
    }
   ],
   "source": [
    "import re\n",
    "\n",
    "sv = {}\n",
    "\n",
    "sv[\"Họ tên\"] = input(\"Nhập họ tên: \")\n",
    "\n",
    "email = input(\"Nhập email: \")\n",
    "if re.match(r\"^[\\w\\.-]+@[\\w\\.-]+\\.\\w+$\", email):\n",
    "    sv[\"Email\"] = email\n",
    "else:\n",
    "    print(\"Email không hợp lệ!\")\n",
    "\n",
    "sdt = input(\"Nhập số điện thoại: \")\n",
    "if re.match(r\"^0\\d{9}$\", sdt):\n",
    "    sv[\"Số điện thoại\"] = sdt\n",
    "else:\n",
    "    print(\"Số điện thoại không hợp lệ!\")\n",
    "\n",
    "cmnd = input(\"Nhập CMND: \")\n",
    "if re.match(r\"^\\d{9}$\", cmnd) or re.match(r\"^\\d{12}$\", cmnd):\n",
    "    sv[\"CMND\"] = cmnd\n",
    "else:\n",
    "    print(\"CMND không hợp lệ!\")\n",
    "\n",
    "print(\"\\n--- Thông tin sinh viên ---\")\n",
    "for key, value in sv.items():\n",
    "    print(key + \":\", value)"
   ]
  },
  {
   "cell_type": "markdown",
   "id": "0f2483fe",
   "metadata": {},
   "source": [
    "## Lab 8 - Bài 3"
   ]
  },
  {
   "cell_type": "code",
   "execution_count": 8,
   "id": "7034990b",
   "metadata": {},
   "outputs": [
    {
     "name": "stdout",
     "output_type": "stream",
     "text": [
      "Đã ghi 1.000.000 số ngẫu nhiên vào file so_ngau_nhien.txt\n"
     ]
    }
   ],
   "source": [
    "import random\n",
    "\n",
    "# Tạo danh sách gồm 1.000.000 số nguyên ngẫu nhiên từ 0 đến 100\n",
    "ds_so = [str(random.randint(0, 100)) for i in range(1000000)]\n",
    "\n",
    "# Ghi các số vào file, cách nhau bằng dấu cách\n",
    "with open(\"so_ngau_nhien.txt\", \"w\") as f:\n",
    "    f.write(\" \".join(ds_so))\n",
    "\n",
    "print(\"Đã ghi 1.000.000 số ngẫu nhiên vào file so_ngau_nhien.txt\")"
   ]
  },
  {
   "cell_type": "markdown",
   "id": "d36ea3d3",
   "metadata": {},
   "source": [
    "## Lab 8 - Bài 4"
   ]
  },
  {
   "cell_type": "code",
   "execution_count": null,
   "id": "4c707ec1",
   "metadata": {},
   "outputs": [
    {
     "name": "stdout",
     "output_type": "stream",
     "text": [
      "Trung bình: 50.026458\n",
      "Độ lệch chuẩn: 29.14591668585319\n"
     ]
    }
   ],
   "source": [
    "import statistics\n",
    "\n",
    "def doc_so_tu_file(ten_file):\n",
    "    with open(ten_file, \"r\") as f:\n",
    "        for so in f.read().split():\n",
    "            yield int(so)\n",
    "\n",
    "du_lieu = list(doc_so_tu_file(\"so_ngau_nhien.txt\"))\n",
    "print(\"Trung bình:\", statistics.mean(du_lieu))\n",
    "print(\"Độ lệch chuẩn:\", statistics.stdev(du_lieu))"
   ]
  },
  {
   "cell_type": "markdown",
   "id": "e2b41d4a",
   "metadata": {},
   "source": [
    "## Lab 8 - Bài 5: bài tập làm thêm"
   ]
  },
  {
   "cell_type": "code",
   "execution_count": null,
   "id": "0e0172f7",
   "metadata": {},
   "outputs": [],
   "source": [
    "# code lab 8  bài làm thêm ở đây "
   ]
  }
 ],
 "metadata": {
  "kernelspec": {
   "display_name": "Python 3",
   "language": "python",
   "name": "python3"
  },
  "language_info": {
   "codemirror_mode": {
    "name": "ipython",
    "version": 3
   },
   "file_extension": ".py",
   "mimetype": "text/x-python",
   "name": "python",
   "nbconvert_exporter": "python",
   "pygments_lexer": "ipython3",
   "version": "3.13.9"
  }
 },
 "nbformat": 4,
 "nbformat_minor": 5
}
