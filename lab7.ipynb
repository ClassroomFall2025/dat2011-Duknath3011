{
 "cells": [
  {
   "cell_type": "markdown",
   "id": "fdeff819",
   "metadata": {},
   "source": [
    "# Sinh Viên thực hiện Lab 7 ở Đây"
   ]
  },
  {
   "cell_type": "markdown",
   "id": "acc5d7dc",
   "metadata": {},
   "source": [
    "## Lab 7 - Bài 1"
   ]
  },
  {
   "cell_type": "code",
   "execution_count": 11,
   "id": "001e0507",
   "metadata": {},
   "outputs": [
    {
     "name": "stdout",
     "output_type": "stream",
     "text": [
      "=== NỘI DUNG TOÀN BỘ FILE ===\n",
      "Tự nguyện\n",
      "Trương Quốc Khánh\n",
      "Nếu là chim, tôi sẽ là loài bồ câu trắng\n",
      "Nếu là hoa, tôi sẽ là một đóa hướng dương\n",
      "Nếu là mây, tôi sẽ là một vầng mây ấm\n",
      "Là người, tôi sẽ chết cho quê hương.\n",
      "\n",
      "Là chim, tôi sẽ cất cao đôi cánh mềm\n",
      "Từ nam ra ngoài bắc báo tin nối liền\n",
      "Là hoa, tôi nở tình yêu ban sớm\n",
      "Cùng muôn trái tim ngất ngây hoà bình.\n",
      "\n",
      "Là mây, theo làn gió tung bay khắp trời\n",
      "Nghìn xưa oai hùng đó tôi xin tiếp lời\n",
      "Là người, xin một lần khi nằm xuống\n",
      "Nhìn anh em đứng lên phất cao ngọn cờ.\n",
      "\n",
      "Tên bài thơ: Tự nguyện\n",
      "Tác giả: Trương Quốc Khánh\n"
     ]
    }
   ],
   "source": [
    "# Mở và đọc toàn bộ nội dung file\n",
    "with open(\"Resource.txt\", \"r\", encoding=\"utf-8\") as f:\n",
    "    lines = f.readlines()\n",
    "\n",
    "# doc va xuat toan bo noi dung file\n",
    "print(\"=== NỘI DUNG TOÀN BỘ FILE ===\")\n",
    "for line in lines:\n",
    "    print(line.strip())\n",
    "\n",
    "#doc va xuat ten bai tho\n",
    "ten_bai_tho = lines[0][:9].strip()\n",
    "print(\"\\nTên bài thơ:\", ten_bai_tho)\n",
    "\n",
    "# xuat ten tac gia\n",
    "tac_gia = lines[1].strip()\n",
    "print(\"Tác giả:\", tac_gia)\n"
   ]
  },
  {
   "cell_type": "markdown",
   "id": "c0835310",
   "metadata": {},
   "source": [
    "## Lab 7 - Bài 2"
   ]
  },
  {
   "cell_type": "code",
   "execution_count": 23,
   "id": "fa9cb39f",
   "metadata": {},
   "outputs": [
    {
     "name": "stdout",
     "output_type": "stream",
     "text": [
      "\n",
      "Nội dung đã được ghi vào file 'Exercise2.txt'\n"
     ]
    }
   ],
   "source": [
    "baitho = \"\"\"\n",
    "...\n",
    "Nếu một mai tôi có bay lên trời\n",
    "Thì người ơi tôi đã sống rất thảnh thơi \n",
    "Nếu một mai tôi có đi qua đời \n",
    "Thì người ơi tôi đã sống rất tuyệt vời\n",
    "...\n",
    "\"\"\"\n",
    "with open(\"Exercise2.txt\", \"w\", encoding=\"utf-8\") as f:\n",
    "    f.write(baitho.strip())\n",
    "\n",
    "print(\"\\nNội dung đã được ghi vào file 'Exercise2.txt'\")\n"
   ]
  },
  {
   "cell_type": "markdown",
   "id": "0f2483fe",
   "metadata": {},
   "source": [
    "## Lab 7 - Bài 3"
   ]
  },
  {
   "cell_type": "code",
   "execution_count": 25,
   "id": "7034990b",
   "metadata": {},
   "outputs": [
    {
     "name": "stdout",
     "output_type": "stream",
     "text": [
      "\n",
      "Nhập thông tin bài thơ thứ 1:\n",
      "\n",
      "Nhập thông tin bài thơ thứ 2:\n",
      "\n",
      "Nhập thông tin bài thơ thứ 3:\n",
      "\n",
      "Nhập thông tin bài thơ thứ 4:\n",
      "\n",
      "Nhập thông tin bài thơ thứ 5:\n",
      "\n",
      " Đã ghi dữ liệu 5 bài thơ vào file 'bai_tho.csv' thành công!\n"
     ]
    }
   ],
   "source": [
    "import csv\n",
    "\n",
    "# Mở (hoặc tạo) file CSV để ghi\n",
    "with open('baitho.csv', mode='w', newline='', encoding='utf-8') as file:\n",
    "    writer = csv.writer(file)\n",
    "    \n",
    "    # Ghi dòng tiêu đề (header)\n",
    "    writer.writerow([\"Tiêu đề\", \"Tác giả\", \"Năm sáng tác\"])\n",
    "    \n",
    "    # Nhập thông tin 5 bài thơ\n",
    "    for i in range(5):\n",
    "        print(f\"\\nNhập thông tin bài thơ thứ {i+1}:\")\n",
    "        tieu_de = input(\"Nhập tiêu đề: \")\n",
    "        tac_gia = input(\"Nhập tác giả: \")\n",
    "        nam = input(\"Nhập năm sáng tác: \")\n",
    "        \n",
    "        # Ghi từng dòng vào file CSV\n",
    "        writer.writerow([tieu_de, tac_gia, nam])\n",
    "\n",
    "print(\"\\n Đã ghi dữ liệu 5 bài thơ vào file 'bai_tho.csv' thành công!\")\n"
   ]
  },
  {
   "cell_type": "markdown",
   "id": "d36ea3d3",
   "metadata": {},
   "source": [
    "## Lab 7 - Bài 4"
   ]
  },
  {
   "cell_type": "code",
   "execution_count": 26,
   "id": "4c707ec1",
   "metadata": {},
   "outputs": [
    {
     "name": "stdout",
     "output_type": "stream",
     "text": [
      "Đã tạo file 'bai_tho.xml' thành công!\n"
     ]
    }
   ],
   "source": [
    "\n",
    "with open('Resource.txt', 'r', encoding='utf-8') as f:\n",
    "    lines = f.readlines()\n",
    "\n",
    "ten_bai = lines[0].strip()\n",
    "tac_gia = lines[1].strip()\n",
    "noi_dung = lines[2:]\n",
    "\n",
    "# Bước 3: Ghi sang file XML\n",
    "with open('baitho.xml', 'w', encoding='utf-8') as f:\n",
    "    f.write('<?xml version=\"1.0\" encoding=\"utf-8\"?>\\n')\n",
    "    f.write('<songs>\\n')\n",
    "    f.write('  <song>\\n')\n",
    "    f.write(f'    <name>{ten_bai}</name>\\n')\n",
    "    f.write(f'    <author>{tac_gia}</author>\\n')\n",
    "    \n",
    "    # Mỗi đoạn thơ ghi thành 1 thẻ <section>\n",
    "    for doan in noi_dung:\n",
    "        f.write(f'    <section>{doan.strip()}</section>\\n')\n",
    "    \n",
    "    f.write('  </song>\\n')\n",
    "    f.write('</songs>')\n",
    "\n",
    "print(\"Đã tạo file 'bai_tho.xml' thành công!\")\n"
   ]
  },
  {
   "cell_type": "markdown",
   "id": "e2b41d4a",
   "metadata": {},
   "source": [
    "## Lab 7 - Bài 5: bài tập làm thêm"
   ]
  },
  {
   "cell_type": "code",
   "execution_count": null,
   "id": "0e0172f7",
   "metadata": {},
   "outputs": [],
   "source": [
    "# code lab 7  bài làm thêm ở đây "
   ]
  }
 ],
 "metadata": {
  "kernelspec": {
   "display_name": "Python 3",
   "language": "python",
   "name": "python3"
  },
  "language_info": {
   "codemirror_mode": {
    "name": "ipython",
    "version": 3
   },
   "file_extension": ".py",
   "mimetype": "text/x-python",
   "name": "python",
   "nbconvert_exporter": "python",
   "pygments_lexer": "ipython3",
   "version": "3.13.8"
  }
 },
 "nbformat": 4,
 "nbformat_minor": 5
}
