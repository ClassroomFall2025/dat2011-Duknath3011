{
 "cells": [
  {
   "cell_type": "code",
   "execution_count": 7,
   "id": "270661ca",
   "metadata": {},
   "outputs": [
    {
     "name": "stdout",
     "output_type": "stream",
     "text": [
      "==============================MENU==============================\n",
      "1 : Nhập thông tin nhân viên\n",
      "2 : Xem thông tin nhân viên\n",
      "3 : Tìm kiếm nhân viên\n",
      "4 : Xóa nhân viên\n",
      "5 : Cập nhật thông tin nhân viên\n",
      "6 : Tìm nhân viên theo lương\n",
      "7 : Sắp xếp nhân viên theo họ và tên\n",
      "8 : Sắp xếp nhân viên theo thu nhập\n",
      "9 : Xuất 5 nhân viên có thu nhập cao nhất\n",
      "0 : Thoát\n",
      "=====================================================================\n"
     ]
    },
    {
     "ename": "ValueError",
     "evalue": "could not convert string to float: 'Lương'",
     "output_type": "error",
     "traceback": [
      "\u001b[31m---------------------------------------------------------------------------\u001b[39m",
      "\u001b[31mValueError\u001b[39m                                Traceback (most recent call last)",
      "\u001b[36mCell\u001b[39m\u001b[36m \u001b[39m\u001b[32mIn[7]\u001b[39m\u001b[32m, line 45\u001b[39m\n\u001b[32m     43\u001b[39m     \u001b[38;5;28;01mbreak\u001b[39;00m\n\u001b[32m     44\u001b[39m \u001b[38;5;28;01melif\u001b[39;00m lua_chon == \u001b[33m\"\u001b[39m\u001b[33m6\u001b[39m\u001b[33m\"\u001b[39m:\n\u001b[32m---> \u001b[39m\u001b[32m45\u001b[39m     \u001b[43mtim_nv_theo_luong\u001b[49m\u001b[43m(\u001b[49m\u001b[43m)\u001b[49m\n\u001b[32m     46\u001b[39m     \u001b[38;5;28;01mbreak\u001b[39;00m\n\u001b[32m     47\u001b[39m \u001b[38;5;28;01melif\u001b[39;00m lua_chon == \u001b[33m\"\u001b[39m\u001b[33m7\u001b[39m\u001b[33m\"\u001b[39m:\n",
      "\u001b[36mFile \u001b[39m\u001b[32mc:\\Users\\luong nhat\\OneDrive\\Desktop\\HK4\\DAT2011\\dat2011-Duknath3011\\asmm.py:119\u001b[39m, in \u001b[36mtim_nv_theo_luong\u001b[39m\u001b[34m()\u001b[39m\n\u001b[32m    117\u001b[39m found = \u001b[38;5;28;01mFalse\u001b[39;00m\n\u001b[32m    118\u001b[39m \u001b[38;5;28;01mfor\u001b[39;00m row \u001b[38;5;129;01min\u001b[39;00m data[\u001b[32m1\u001b[39m:]:\n\u001b[32m--> \u001b[39m\u001b[32m119\u001b[39m     \u001b[38;5;28;01mif\u001b[39;00m \u001b[38;5;28;43mfloat\u001b[39;49m\u001b[43m(\u001b[49m\u001b[43mrow\u001b[49m\u001b[43m[\u001b[49m\u001b[32;43m2\u001b[39;49m\u001b[43m]\u001b[49m\u001b[43m)\u001b[49m == luong_can_tim:\n\u001b[32m    120\u001b[39m         \u001b[38;5;28mprint\u001b[39m(\u001b[33mf\u001b[39m\u001b[33m\"\u001b[39m\u001b[33mTìm thấy nhân viên: Mã NV: \u001b[39m\u001b[38;5;132;01m{\u001b[39;00mrow[\u001b[32m0\u001b[39m]\u001b[38;5;132;01m}\u001b[39;00m\u001b[33m, Họ và tên: \u001b[39m\u001b[38;5;132;01m{\u001b[39;00mrow[\u001b[32m1\u001b[39m]\u001b[38;5;132;01m}\u001b[39;00m\u001b[33m, Lương: \u001b[39m\u001b[38;5;132;01m{\u001b[39;00mrow[\u001b[32m2\u001b[39m]\u001b[38;5;132;01m}\u001b[39;00m\u001b[33m\"\u001b[39m)\n\u001b[32m    121\u001b[39m         found = \u001b[38;5;28;01mTrue\u001b[39;00m\n",
      "\u001b[31mValueError\u001b[39m: could not convert string to float: 'Lương'"
     ]
    }
   ],
   "source": [
    "# from asmm import (\n",
    "#     nhap_tt_nv, xem_tt_nv, tim_kiem_nv, xoa_nv, cap_nhat_nv,\n",
    "#     tim_nv_theo_luong, sap_xep_nv_theo_ten, sap_xep_nv_theo_luong,\n",
    "#     xuat_5_nv_luong_cao_nhat\n",
    "# )\n",
    "\n",
    "from asmm import *\n",
    "import csv\n",
    "\n",
    "menu = {\n",
    "    \"1\" : \"Nhập thông tin nhân viên\",\n",
    "    \"2\" : \"Xem thông tin nhân viên\",\n",
    "    \"3\" : \"Tìm kiếm nhân viên\",\n",
    "    \"4\" : \"Xóa nhân viên\",\n",
    "    \"5\" : \"Cập nhật thông tin nhân viên\",\n",
    "    \"6\" : \"Tìm nhân viên theo lương\",\n",
    "    \"7\" : \"Sắp xếp nhân viên theo họ và tên\",\n",
    "    \"8\" : \"Sắp xếp nhân viên theo thu nhập\",\n",
    "    \"9\" : \"Xuất 5 nhân viên có thu nhập cao nhất\",\n",
    "    \"0\" : \"Thoát\"\n",
    "}\n",
    "while True:\n",
    "    print(\"===\"*10 + \"MENU\" + \"===\"*10)\n",
    "    for k,v in menu.items():\n",
    "        print(f\"{k} : {v}\")\n",
    "    print(\"===\"*23)\n",
    "    lua_chon = input(\"Chọn chức năng: \")\n",
    "    if lua_chon == \"1\":\n",
    "        nhap_nhanvien()\n",
    "        break\n",
    "    elif lua_chon == \"2\":\n",
    "        xem_tt_nv()\n",
    "        break\n",
    "    elif lua_chon == \"3\":\n",
    "        tim_kiem_nv()\n",
    "        break\n",
    "    elif lua_chon == \"4\":\n",
    "        xoa_nv()\n",
    "        break\n",
    "    elif lua_chon == \"5\":    \n",
    "        print(\"Cập nhật thông tin nhân viên\")\n",
    "        cap_nhat_nv()\n",
    "        break\n",
    "    elif lua_chon == \"6\":\n",
    "        tim_nv_theo_luong()\n",
    "        break\n",
    "    elif lua_chon == \"7\":\n",
    "        print(\"Sắp xếp nhân viên theo họ và tên\")\n",
    "        sap_xep_nv_theo_ten()\n",
    "        break\n",
    "    elif lua_chon == \"8\":\n",
    "        print(\"Sắp xếp nhân viên theo thu nhập\")\n",
    "        sap_xep_nv_theo_luong()\n",
    "        break\n",
    "    elif lua_chon == \"9\":\n",
    "        print(\"Xuất 5 nhân viên có thu nhập cao nhất\")\n",
    "        xuat_5_nv_luong_cao_nhat()\n",
    "        break\n",
    "    elif lua_chon == \"0\":\n",
    "        print(\"Thoát chương trình\")\n",
    "        break\n",
    "    "
   ]
  }
 ],
 "metadata": {
  "kernelspec": {
   "display_name": "Python 3",
   "language": "python",
   "name": "python3"
  },
  "language_info": {
   "codemirror_mode": {
    "name": "ipython",
    "version": 3
   },
   "file_extension": ".py",
   "mimetype": "text/x-python",
   "name": "python",
   "nbconvert_exporter": "python",
   "pygments_lexer": "ipython3",
   "version": "3.13.9"
  }
 },
 "nbformat": 4,
 "nbformat_minor": 5
}
