{
 "cells": [
  {
   "cell_type": "code",
   "execution_count": null,
   "id": "270661ca",
   "metadata": {},
   "outputs": [
    {
     "ename": "ImportError",
     "evalue": "cannot import name 'tim_kiem_nv' from 'asmm' (c:\\Users\\luong nhat\\OneDrive\\Desktop\\HK4\\DAT2011\\dat2011-Duknath3011\\asmm.py)",
     "output_type": "error",
     "traceback": [
      "\u001b[31m---------------------------------------------------------------------------\u001b[39m",
      "\u001b[31mImportError\u001b[39m                               Traceback (most recent call last)",
      "\u001b[36mCell\u001b[39m\u001b[36m \u001b[39m\u001b[32mIn[36]\u001b[39m\u001b[32m, line 3\u001b[39m\n\u001b[32m      1\u001b[39m \u001b[38;5;28;01mfrom\u001b[39;00m\u001b[38;5;250m \u001b[39m\u001b[34;01masmm\u001b[39;00m\u001b[38;5;250m \u001b[39m\u001b[38;5;28;01mimport\u001b[39;00m nhap_tt_nv\n\u001b[32m      2\u001b[39m \u001b[38;5;28;01mfrom\u001b[39;00m\u001b[38;5;250m \u001b[39m\u001b[34;01masmm\u001b[39;00m\u001b[38;5;250m \u001b[39m\u001b[38;5;28;01mimport\u001b[39;00m xem_tt_nv\n\u001b[32m----> \u001b[39m\u001b[32m3\u001b[39m \u001b[38;5;28;01mfrom\u001b[39;00m\u001b[38;5;250m \u001b[39m\u001b[34;01masmm\u001b[39;00m\u001b[38;5;250m \u001b[39m\u001b[38;5;28;01mimport\u001b[39;00m tim_kiem_nv\n\u001b[32m      4\u001b[39m \u001b[38;5;28;01mfrom\u001b[39;00m\u001b[38;5;250m \u001b[39m\u001b[34;01masmm\u001b[39;00m\u001b[38;5;250m \u001b[39m\u001b[38;5;28;01mimport\u001b[39;00m xoa_nv\n\u001b[32m      5\u001b[39m \u001b[38;5;28;01mfrom\u001b[39;00m\u001b[38;5;250m \u001b[39m\u001b[34;01masmm\u001b[39;00m\u001b[38;5;250m \u001b[39m\u001b[38;5;28;01mimport\u001b[39;00m cap_nhat_nv\n",
      "\u001b[31mImportError\u001b[39m: cannot import name 'tim_kiem_nv' from 'asmm' (c:\\Users\\luong nhat\\OneDrive\\Desktop\\HK4\\DAT2011\\dat2011-Duknath3011\\asmm.py)"
     ]
    }
   ],
   "source": [
    "from asmm import (\n",
    "    nhap_tt_nv, xem_tt_nv, tim_kiem_nv, xoa_nv, cap_nhat_nv,\n",
    "    tim_nv_theo_luong, sap_xep_nv_theo_ten, sap_xep_nv_theo_luong,\n",
    "    xuat_5_nv_luong_cao_nhat\n",
    ")\n",
    "\n",
    "menu = {\n",
    "    \"1\" : \"Nhập thông tin nhân viên\",\n",
    "    \"2\" : \"Xem thông tin nhân viên\",\n",
    "    \"3\" : \"Tìm kiếm nhân viên\",\n",
    "    \"4\" : \"Xóa nhân viên\",\n",
    "    \"5\" : \"Cập nhật thông tin nhân viên\",\n",
    "    \"6\" : \"Tìm nhân viên theo lương\",\n",
    "    \"7\" : \"Sắp xếp nhân viên theo họ và tên\",\n",
    "    \"8\" : \"Sắp xếp nhân viên theo thu nhập\",\n",
    "    \"9\" : \"Xuất 5 nhân viên có thu nhập cao nhất\",\n",
    "    \"0\" : \"Thoát\"\n",
    "}\n",
    "while True:\n",
    "    print(\"===\"*10 + \"MENU\" + \"===\"*10)\n",
    "    for k,v in menu.items():\n",
    "        print(f\"{k} : {v}\")\n",
    "    print(\"===\"*23)\n",
    "    lua_chon = input(\"Chọn chức năng: \")\n",
    "    if lua_chon == \"1\":\n",
    "        print(\"Nhập thông tin nhân viên\")\n",
    "        so_nv = int(input(\"Nhập số nhân viên cần thêm: \"))\n",
    "        print(\"thông tin nhân viên vừa nhập là: \", nhap_tt_nv(so_nv))\n",
    "        break\n",
    "    elif lua_chon == \"2\":\n",
    "        xem_tt_nv()\n",
    "    elif lua_chon == \"3\":\n",
    "        print(\"Tìm kiếm nhân viên\")\n",
    "        tim_kiem_nv()\n",
    "    elif lua_chon == \"4\":\n",
    "        print(\"Xóa nhân viên\")\n",
    "        xoa_nv()\n",
    "    elif lua_chon == \"5\":    \n",
    "        print(\"Cập nhật thông tin nhân viên\")\n",
    "        cap_nhat_nv()\n",
    "    elif lua_chon == \"6\":\n",
    "        print(\"Sắp xếp nhân viên theo họ và tên\")\n",
    "        sap_xep_nv_theo_ten()\n",
    "    elif lua_chon == \"7\":\n",
    "        print(\"Tìm nhân viên theo lương\")\n",
    "        tim_nv_theo_luong()\n",
    "    elif lua_chon == \"8\":\n",
    "        print(\"Sắp xếp nhân viên theo thu nhập\")\n",
    "        sap_xep_nv_theo_luong()\n",
    "    elif lua_chon == \"9\":\n",
    "        print(\"Xuất 5 nhân viên có thu nhập cao nhất\")\n",
    "        xuat_5_nv_luong_cao_nhat()\n",
    "    elif lua_chon == \"0\":\n",
    "        print(\"Thoát chương trình\")\n",
    "        break\n",
    "    "
   ]
  }
 ],
 "metadata": {
  "kernelspec": {
   "display_name": "Python 3",
   "language": "python",
   "name": "python3"
  },
  "language_info": {
   "codemirror_mode": {
    "name": "ipython",
    "version": 3
   },
   "file_extension": ".py",
   "mimetype": "text/x-python",
   "name": "python",
   "nbconvert_exporter": "python",
   "pygments_lexer": "ipython3",
   "version": "3.13.7"
  }
 },
 "nbformat": 4,
 "nbformat_minor": 5
}
